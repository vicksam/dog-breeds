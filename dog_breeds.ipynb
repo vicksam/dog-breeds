{
 "cells": [
  {
   "cell_type": "markdown",
   "metadata": {},
   "source": [
    "# Dog Breed Classifier"
   ]
  },
  {
   "cell_type": "markdown",
   "metadata": {},
   "source": [
    "## Project\n",
    "\n",
    "I always wanted to build a model that could be used by anyone. *'Tell me what type of dog it is'* is a simple idea that could be made into an app. It would tell you the type of dog on a picture or... the one that you resemble. The main problem is to build a classifier strong enough to work not only with clean and prepared data, but with more diverse one like user made photos.\n",
    "\n",
    "Here I'm going to build a model for it. I will use a convolutional neural network (CNN), a network type doing really well with image recognition. First, I'm going to use pre-trained models to know if it is an image of a dog or a human. Then I will use a CNN to predict the matching breed. You will see me building two CNNs, one from scratch and the other one using transfer learning. I'm curious how they will compare."
   ]
  },
  {
   "cell_type": "markdown",
   "metadata": {},
   "source": [
    "## Imports"
   ]
  },
  {
   "cell_type": "code",
   "execution_count": 1,
   "metadata": {},
   "outputs": [],
   "source": [
    "import numpy as np\n",
    "from glob import glob"
   ]
  },
  {
   "cell_type": "markdown",
   "metadata": {},
   "source": [
    "## Load data\n",
    "\n",
    "The data are images of famous people and different types of dogs."
   ]
  },
  {
   "cell_type": "code",
   "execution_count": 2,
   "metadata": {},
   "outputs": [
    {
     "name": "stdout",
     "output_type": "stream",
     "text": [
      "There are 13233 total human images.\n",
      "There are 8351 total dog images.\n"
     ]
    }
   ],
   "source": [
    "# load filenames for human and dog images\n",
    "human_files = np.array(glob('./data/lfw/*/*'))\n",
    "dog_files = np.array(glob('./data/dog_images/*/*/*'))\n",
    "\n",
    "# print number of images in each dataset\n",
    "print('There are %d total human images.' % len(human_files))\n",
    "print('There are %d total dog images.' % len(dog_files))"
   ]
  }
 ],
 "metadata": {
  "kernelspec": {
   "display_name": "Python [conda env:pytorch_env]",
   "language": "python",
   "name": "conda-env-pytorch_env-py"
  },
  "language_info": {
   "codemirror_mode": {
    "name": "ipython",
    "version": 3
   },
   "file_extension": ".py",
   "mimetype": "text/x-python",
   "name": "python",
   "nbconvert_exporter": "python",
   "pygments_lexer": "ipython3",
   "version": "3.7.7"
  }
 },
 "nbformat": 4,
 "nbformat_minor": 4
}
